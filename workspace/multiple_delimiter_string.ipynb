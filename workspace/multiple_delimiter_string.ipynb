{
 "cells": [
  {
   "cell_type": "code",
   "execution_count": 16,
   "id": "02b607c9-ef72-4b8b-b1c5-712793066b15",
   "metadata": {},
   "outputs": [],
   "source": [
    "from pyspark.sql.functions import split\n",
    "from pyspark.sql import Row\n",
    "from pyspark.sql.types import StructType, StructField, StringType\n",
    "from pyspark.sql import SparkSession\n",
    "\n",
    "spark = SparkSession.builder.master(\"local[*]\").appName('Test').getOrCreate()\n",
    "sc = spark.sparkContext\n",
    "sc.setLogLevel('ERROR')"
   ]
  },
  {
   "cell_type": "code",
   "execution_count": 17,
   "id": "89bdef44-f96c-42b1-bf8d-29773ebe82c5",
   "metadata": {},
   "outputs": [],
   "source": [
    "data = [Row(\"1,Alice\\t30|New York\")]\n",
    "schema = StructType([StructField(\"Value\", StringType(), True)])\n",
    "df = spark.createDataFrame(data, schema)"
   ]
  },
  {
   "cell_type": "code",
   "execution_count": 18,
   "id": "a6f97d53-1282-450f-a870-3e1a6ce153b4",
   "metadata": {},
   "outputs": [
    {
     "name": "stdout",
     "output_type": "stream",
     "text": [
      "+--------------------+---+-----+---+--------+\n",
      "|               Value| Id| Name|Age|    City|\n",
      "+--------------------+---+-----+---+--------+\n",
      "|1,Alice\\t30|New York|  1|Alice| 30|New York|\n",
      "+--------------------+---+-----+---+--------+\n",
      "\n"
     ]
    }
   ],
   "source": [
    "df = df.withColumn(\"Split_Array\", split(df.Value, \",|\\t|\\|\"))\n",
    "df = (\n",
    "    df.withColumn(\"Id\", df.Split_Array.getItem(0))\n",
    "    .withColumn(\"Name\", df.Split_Array.getItem(1))\n",
    "    .withColumn(\"Age\", df.Split_Array.getItem(2))\n",
    "    .withColumn(\"City\", df.Split_Array.getItem(3))\n",
    ")\n",
    "df = df.select(\"Value\", \"Id\", \"Name\", \"Age\", \"City\")\n",
    "df.show()"
   ]
  }
 ],
 "metadata": {
  "kernelspec": {
   "display_name": "Python 3 (ipykernel)",
   "language": "python",
   "name": "python3"
  },
  "language_info": {
   "codemirror_mode": {
    "name": "ipython",
    "version": 3
   },
   "file_extension": ".py",
   "mimetype": "text/x-python",
   "name": "python",
   "nbconvert_exporter": "python",
   "pygments_lexer": "ipython3",
   "version": "3.8.17"
  }
 },
 "nbformat": 4,
 "nbformat_minor": 5
}
